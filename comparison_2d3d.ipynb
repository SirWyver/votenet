{
 "metadata": {
  "language_info": {
   "codemirror_mode": {
    "name": "ipython",
    "version": 3
   },
   "file_extension": ".py",
   "mimetype": "text/x-python",
   "name": "python",
   "nbconvert_exporter": "python",
   "pygments_lexer": "ipython3",
   "version": 3
  },
  "orig_nbformat": 2,
  "kernelspec": {
   "name": "python_defaultSpec_1595586079754",
   "display_name": "Python 3.7.3 64-bit ('base': conda)"
  }
 },
 "nbformat": 4,
 "nbformat_minor": 2,
 "cells": [
  {
   "cell_type": "code",
   "execution_count": 1,
   "metadata": {},
   "outputs": [],
   "source": [
    "import os\n",
    "import sys\n",
    "import numpy as np\n",
    "from torch.utils.data import Dataset\n",
    "from dvis import dvis\n",
    "\n",
    "sys.path.append('utils')\n",
    "sys.path.append('fsn')\n",
    "\n",
    "import pc_util\n",
    "\n",
    "from model_util_fsn import FSNDatasetConfig, rotate_aligned_boxes\n",
    "\n",
    "DC = FSNDatasetConfig()\n",
    "MAX_NUM_OBJ = 64\n",
    "MEAN_COLOR_RGB = np.array([109.8, 97.2, 83.8])\n",
    "from pathlib import Path\n",
    "from dyme import Dyme\n"
   ]
  },
  {
   "cell_type": "code",
   "execution_count": 2,
   "metadata": {},
   "outputs": [],
   "source": [
    "data_path = '/home/norman/datasets/scannet_4d'\n",
    "all_scan_names = list(set([x for x in os.listdir(data_path) if x.startswith(\"scene\")]))\n",
    "DC = FSNDatasetConfig()"
   ]
  },
  {
   "cell_type": "markdown",
   "metadata": {},
   "source": [
    "## load GT"
   ]
  },
  {
   "cell_type": "code",
   "execution_count": 3,
   "metadata": {},
   "outputs": [],
   "source": [
    "scan_name = 'scene0000_00'\n",
    "frame_idx = 0\n",
    "\n",
    "def load_gt(scan_name, frame_idx, data_path=data_path, load_pc=True):\n",
    "    dy = Dyme(Path(data_path,scan_name))\n",
    "    if load_pc:\n",
    "        pc_wa = dy.load(f\"pc_wa/{frame_idx}.npz\")\n",
    "    else:\n",
    "        pc_wa = None\n",
    "    frame_anno3d = dy.load(f\"annotation3d/{frame_idx}.yaml\")\n",
    "\n",
    "    gt_instances = []\n",
    "    for inst_anno in frame_anno3d['instances'].values():\n",
    "        if inst_anno[\"nyu40_id\"] not in DC.nyu40ids:\n",
    "            continue\n",
    "        inst_anno.update({'sn18_id': DC.nyu40id2class[inst_anno[\"nyu40_id\"]]})\n",
    "        gt_instances.append(inst_anno) \n",
    "    return pc_wa, gt_instances\n",
    "\n",
    "pc_wa, gt_instances = load_gt(scan_name, frame_idx, load_pc=True)\n"
   ]
  },
  {
   "cell_type": "markdown",
   "metadata": {},
   "source": [
    "## load MaskRCNN"
   ]
  },
  {
   "cell_type": "code",
   "execution_count": 4,
   "metadata": {},
   "outputs": [],
   "source": [
    "import pickle\n",
    "#generate with predictions2bboxes.ipynb\n",
    "eval_maskrcnn_fn =  '/home/norman/detectron2/scannet/fsn_eval.pkl'\n",
    "eval_maskrcnn = pickle.load(open(eval_maskrcnn_fn, 'rb'))\n"
   ]
  },
  {
   "cell_type": "code",
   "execution_count": 45,
   "metadata": {},
   "outputs": [],
   "source": [
    "sys.path.append('models/')\n",
    "from ap_helper import APCalculator, parse_predictions, parse_groundtruths\n",
    "from eval_det import get_iou\n",
    "\n",
    "\n"
   ]
  },
  {
   "cell_type": "code",
   "execution_count": 42,
   "metadata": {},
   "outputs": [],
   "source": [
    "#pred_all: map of {img_id: [(classname, bbox, score)]}\n",
    "#gt_all: map of {img_id: [(classname, bbox)]}"
   ]
  },
  {
   "cell_type": "code",
   "execution_count": 60,
   "metadata": {
    "tags": []
   },
   "outputs": [
    {
     "output_type": "stream",
     "name": "stdout",
     "text": "3 0.8846153846153846\n2 0.0\n7 0.0\n8 0.0\n0 nan\n17 0.0\n10 nan\n4 0.10526315789473684\n11 0\n{'cabinet Average Precision': nan, 'chair Average Precision': 0.0, 'sofa Average Precision': 0.8846153846153846, 'table Average Precision': 0.10526315789473684, 'bookshelf Average Precision': 0.0, 'picture Average Precision': 0.0, 'desk Average Precision': nan, 'curtain Average Precision': 0, 'otherfurniture Average Precision': 0.0, 'mAP': nan, 'cabinet Recall': nan, 'chair Recall': 0.0, 'sofa Recall': 0.8846153846153846, 'table Recall': 0.10526315789473684, 'bookshelf Recall': 0.0, 'picture Recall': 0.0, 'desk Recall': nan, 'curtain Recall': 0, 'otherfurniture Recall': 0.0, 'AR': nan}\n3 0.8846153846153846\n2 0.0\n7 0.0\n8 0.0\n0 nan\n17 0.0\n10 nan\n4 0.10526315789473684\n11 0\n{'cabinet Average Precision': nan, 'chair Average Precision': 0.0, 'sofa Average Precision': 0.8846153846153846, 'table Average Precision': 0.10526315789473684, 'bookshelf Average Precision': 0.0, 'picture Average Precision': 0.0, 'desk Average Precision': nan, 'curtain Average Precision': 0, 'otherfurniture Average Precision': 0.0, 'mAP': nan, 'cabinet Recall': nan, 'chair Recall': 0.0, 'sofa Recall': 0.8846153846153846, 'table Recall': 0.10526315789473684, 'bookshelf Recall': 0.0, 'picture Recall': 0.0, 'desk Recall': nan, 'curtain Recall': 0, 'otherfurniture Recall': 0.0, 'AR': nan}\n3 0.8461538461538461\n2 0.0\n7 0.0\n8 0.0\n0 nan\n17 0.0\n10 nan\n4 0.10526315789473684\n11 0\n{'cabinet Average Precision': nan, 'chair Average Precision': 0.0, 'sofa Average Precision': 0.8461538461538461, 'table Average Precision': 0.10526315789473684, 'bookshelf Average Precision': 0.0, 'picture Average Precision': 0.0, 'desk Average Precision': nan, 'curtain Average Precision': 0, 'otherfurniture Average Precision': 0.0, 'mAP': nan, 'cabinet Recall': nan, 'chair Recall': 0.0, 'sofa Recall': 0.8461538461538461, 'table Recall': 0.10526315789473684, 'bookshelf Recall': 0.0, 'picture Recall': 0.0, 'desk Recall': nan, 'curtain Recall': 0, 'otherfurniture Recall': 0.0, 'AR': nan}\n3 0.8461538461538461\n2 0.0\n7 0.0\n8 0.0\n0 nan\n17 0.0\n10 nan\n4 0.10526315789473684\n11 0\n{'cabinet Average Precision': nan, 'chair Average Precision': 0.0, 'sofa Average Precision': 0.8461538461538461, 'table Average Precision': 0.10526315789473684, 'bookshelf Average Precision': 0.0, 'picture Average Precision': 0.0, 'desk Average Precision': nan, 'curtain Average Precision': 0, 'otherfurniture Average Precision': 0.0, 'mAP': nan, 'cabinet Recall': nan, 'chair Recall': 0.0, 'sofa Recall': 0.8461538461538461, 'table Recall': 0.10526315789473684, 'bookshelf Recall': 0.0, 'picture Recall': 0.0, 'desk Recall': nan, 'curtain Recall': 0, 'otherfurniture Recall': 0.0, 'AR': nan}\n"
    }
   ],
   "source": [
    "### compute 3d AP on all MASK RCNN predictions\n",
    "ap_calculator_list = [APCalculator(iou_thresh, DC.class2type) for iou_thresh in [0.001,0.01,0.05,0.1]]\n",
    "gt_ref = 'aabb_wa'\n",
    "for counter, ((scan_name, frame_idx), mask_insts) in enumerate(eval_maskrcnn.items()):\n",
    "    if counter > 300:\n",
    "        break\n",
    "    for ap_calculator in ap_calculator_list:\n",
    "        pred_map_cls = [(mask_inst['category_id']-1, mask_inst['aabb_wa'], mask_inst['score']) for mask_inst in mask_insts]\n",
    "        _, gt_instances = load_gt(scan_name, frame_idx, data_path=data_path, load_pc=False)\n",
    "        gt_map_cls = [(gt_instance['sn18_id'], gt_instance[gt_ref]) for gt_instance in gt_instances]\n",
    "        #print([x[0] for x in gt_map_cls])\n",
    "        ap_calculator.step([pred_map_cls], [gt_map_cls])\n",
    "\n",
    "for ap_calculator in ap_calculator_list:\n",
    "    ret_dict = ap_calculator.compute_metrics(get_iou)\n",
    "    print(ret_dict)"
   ]
  },
  {
   "cell_type": "code",
   "execution_count": 61,
   "metadata": {
    "tags": []
   },
   "outputs": [
    {
     "output_type": "stream",
     "name": "stdout",
     "text": "Sending xyzrgb with shape (70731, 6)\nSending bbox with shape (6,)\nSending bbox with shape (6,)\n"
    }
   ],
   "source": [
    "### show some samples\n",
    "dvis(load_gt(scan_name, frame_idx, data_path=data_path, load_pc=True)[0][:,:6], vs=0.01)\n",
    "for pred_map in pred_map_cls:\n",
    "    dvis(pred_map[1], c=pred_map[0], name=f\"pred/{DC.class2type[pred_map[0]]}\")\n",
    "for gt_map in gt_map_cls:\n",
    "    dvis(gt_map[1], c=gt_map[0],name=f\"gt/{DC.class2type[gt_map[0]]}\", vs=2)"
   ]
  },
  {
   "cell_type": "code",
   "execution_count": 53,
   "metadata": {
    "tags": []
   },
   "outputs": [
    {
     "output_type": "stream",
     "name": "stdout",
     "text": "1 0.15193577873442127\n{'bed Average Precision': 0.15193577873442127, 'mAP': 0.15193577873442127, 'bed Recall': 0.2222222222222222, 'AR': 0.2222222222222222}\n1 0.15193577873442127\n{'bed Average Precision': 0.15193577873442127, 'mAP': 0.15193577873442127, 'bed Recall': 0.2222222222222222, 'AR': 0.2222222222222222}\n1 0.14773997453861706\n{'bed Average Precision': 0.14773997453861706, 'mAP': 0.14773997453861706, 'bed Recall': 0.21367521367521367, 'AR': 0.21367521367521367}\n1 0.14773997453861706\n{'bed Average Precision': 0.14773997453861706, 'mAP': 0.14773997453861706, 'bed Recall': 0.21367521367521367, 'AR': 0.21367521367521367}\n"
    }
   ],
   "source": [
    "### compute 3d AP on all MASK RCNN predictions\n",
    "gt_ref = 'aabb_wa'\n",
    "ap_calculator_list_det = [APCalculator(iou_thresh, DC.class2type) for iou_thresh in [0.001,0.01,0.05,0.1]]\n",
    "for counter, ((scan_name, frame_idx), mask_insts) in enumerate(eval_maskrcnn.items()):\n",
    "    for ap_calculator in ap_calculator_list_det:\n",
    "        pred_map_cls = [(1, mask_inst['aabb_wa'], mask_inst['score']) for mask_inst in mask_insts]\n",
    "        _, gt_instances = load_gt(scan_name, frame_idx, data_path=data_path, load_pc=False)\n",
    "        gt_map_cls = [(1, gt_instance[gt_ref]) for gt_instance in gt_instances]\n",
    "        #print([x[0] for x in gt_map_cls])\n",
    "        ap_calculator.step([pred_map_cls], [gt_map_cls])\n",
    "\n",
    "\n",
    "for ap_calculator in ap_calculator_list_det:\n",
    "    ret_dict = ap_calculator.compute_metrics(get_iou)\n",
    "    print(ret_dict)"
   ]
  },
  {
   "cell_type": "code",
   "execution_count": null,
   "metadata": {},
   "outputs": [],
   "source": []
  },
  {
   "cell_type": "code",
   "execution_count": 29,
   "metadata": {
    "tags": []
   },
   "outputs": [
    {
     "output_type": "stream",
     "name": "stdout",
     "text": "Sending xyzrgb with shape (69061, 6)\nSending bbox with shape (6,)\nSending bbox with shape (6,)\nSending bbox with shape (6,)\nSending bbox with shape (6,)\nSending bbox with shape (6,)\n"
    }
   ],
   "source": [
    "## display faabb_wa\n",
    "dvis(pc_wa[:,:6], vs=0.01, name=f'{frame_idx}/pc_wa')\n",
    "for gt_inst in gt_instances:\n",
    "    dvis(gt_inst['faabb_wa'], c=gt_inst['inst_id'], name=f\"{frame_idx}/faabb_wa_{gt_inst['inst_id']}\")\n"
   ]
  },
  {
   "cell_type": "code",
   "execution_count": 21,
   "metadata": {
    "tags": []
   },
   "outputs": [
    {
     "output_type": "stream",
     "name": "stdout",
     "text": "Sending xyzrgb with shape (69061, 6)\nSending bbox with shape (6,)\nSending bbox with shape (6,)\nSending bbox with shape (6,)\nSending bbox with shape (6,)\nSending bbox with shape (6,)\n"
    }
   ],
   "source": [
    "## display aabb_wa\n",
    "dvis(pc_wa[:,:6], vs=0.01, name=f'{frame_idx}/pc_wa')\n",
    "for gt_inst in gt_instances:\n",
    "    dvis(gt_inst['aabb_wa'], c=gt_inst['inst_id'], name=f\"{frame_idx}/aabb_wa_{gt_inst['inst_id']}\")"
   ]
  },
  {
   "cell_type": "markdown",
   "metadata": {},
   "source": [
    "## Load VoteNet"
   ]
  },
  {
   "cell_type": "code",
   "execution_count": 81,
   "metadata": {},
   "outputs": [],
   "source": [
    "from dutils import compute_AABB"
   ]
  },
  {
   "cell_type": "code",
   "execution_count": 74,
   "metadata": {},
   "outputs": [],
   "source": [
    "eval_votenet =  Dyme('/home/norman/votenet/eval_fsn2/').load('serialize_preds.yaml')"
   ]
  },
  {
   "cell_type": "code",
   "execution_count": 75,
   "metadata": {},
   "outputs": [],
   "source": [
    "# changes in next\n",
    "eval_vn = dict()\n",
    "for eval_vote in eval_votenet:\n",
    "    eval_vn[(eval_vote['scan_name'], eval_vote['frame_idx'])] = eval_vote['instances']"
   ]
  },
  {
   "cell_type": "code",
   "execution_count": 76,
   "metadata": {},
   "outputs": [
    {
     "output_type": "execute_result",
     "data": {
      "text/plain": "dict_keys(['cls_id', 'faabb', 'obj_prob'])"
     },
     "metadata": {},
     "execution_count": 76
    }
   ],
   "source": [
    "eval_vote['instances'][0].keys()"
   ]
  },
  {
   "cell_type": "code",
   "execution_count": 84,
   "metadata": {
    "tags": []
   },
   "outputs": [
    {
     "output_type": "stream",
     "name": "stdout",
     "text": "2 0.0269892937412119\n4 0.02150537634408602\n1 nan\n5 0.021739130434782608\n3 0.14615384615384616\n0 0.05753968253968254\n14 nan\n17 0.0\n7 nan\n15 0.0\n6 0.0\n8 0.0\n12 0\n9 0\n{'cabinet Average Precision': 0.05753968253968254, 'bed Average Precision': nan, 'chair Average Precision': 0.0269892937412119, 'sofa Average Precision': 0.14615384615384616, 'table Average Precision': 0.02150537634408602, 'door Average Precision': 0.021739130434782608, 'window Average Precision': 0.0, 'bookshelf Average Precision': nan, 'picture Average Precision': 0.0, 'counter Average Precision': 0, 'refridgerator Average Precision': 0, 'toilet Average Precision': nan, 'sink Average Precision': 0.0, 'otherfurniture Average Precision': 0.0, 'mAP': nan, 'cabinet Recall': 0.08928571428571429, 'bed Recall': nan, 'chair Recall': 0.09316770186335403, 'sofa Recall': 0.15384615384615385, 'table Recall': 0.03225806451612903, 'door Recall': 0.043478260869565216, 'window Recall': 0.0, 'bookshelf Recall': nan, 'picture Recall': 0.0, 'counter Recall': 0, 'refridgerator Recall': 0, 'toilet Recall': nan, 'sink Recall': 0.0, 'otherfurniture Recall': 0.0, 'AR': nan}\n2 0.0269892937412119\n4 0.02150537634408602\n1 nan\n5 0.021739130434782608\n3 0.14615384615384616\n0 0.041666666666666664\n14 nan\n17 0.0\n7 nan\n15 0.0\n6 0.0\n8 0.0\n12 0\n9 0\n{'cabinet Average Precision': 0.041666666666666664, 'bed Average Precision': nan, 'chair Average Precision': 0.0269892937412119, 'sofa Average Precision': 0.14615384615384616, 'table Average Precision': 0.02150537634408602, 'door Average Precision': 0.021739130434782608, 'window Average Precision': 0.0, 'bookshelf Average Precision': nan, 'picture Average Precision': 0.0, 'counter Average Precision': 0, 'refridgerator Average Precision': 0, 'toilet Average Precision': nan, 'sink Average Precision': 0.0, 'otherfurniture Average Precision': 0.0, 'mAP': nan, 'cabinet Recall': 0.07142857142857142, 'bed Recall': nan, 'chair Recall': 0.09316770186335403, 'sofa Recall': 0.15384615384615385, 'table Recall': 0.03225806451612903, 'door Recall': 0.043478260869565216, 'window Recall': 0.0, 'bookshelf Recall': nan, 'picture Recall': 0.0, 'counter Recall': 0, 'refridgerator Recall': 0, 'toilet Recall': nan, 'sink Recall': 0.0, 'otherfurniture Recall': 0.0, 'AR': nan}\n2 0.0233201581027668\n4 0.0\n1 nan\n5 0.021739130434782608\n3 0.11538461538461539\n0 0.021825396825396824\n14 nan\n17 0.0\n7 nan\n15 0.0\n6 0.0\n8 0.0\n12 0\n9 0\n{'cabinet Average Precision': 0.021825396825396824, 'bed Average Precision': nan, 'chair Average Precision': 0.0233201581027668, 'sofa Average Precision': 0.11538461538461539, 'table Average Precision': 0.0, 'door Average Precision': 0.021739130434782608, 'window Average Precision': 0.0, 'bookshelf Average Precision': nan, 'picture Average Precision': 0.0, 'counter Average Precision': 0, 'refridgerator Average Precision': 0, 'toilet Average Precision': nan, 'sink Average Precision': 0.0, 'otherfurniture Average Precision': 0.0, 'mAP': nan, 'cabinet Recall': 0.03571428571428571, 'bed Recall': nan, 'chair Recall': 0.08074534161490683, 'sofa Recall': 0.11538461538461539, 'table Recall': 0.0, 'door Recall': 0.043478260869565216, 'window Recall': 0.0, 'bookshelf Recall': nan, 'picture Recall': 0.0, 'counter Recall': 0, 'refridgerator Recall': 0, 'toilet Recall': nan, 'sink Recall': 0.0, 'otherfurniture Recall': 0.0, 'AR': nan}\n2 0.016264263938858693\n4 0.0\n1 nan\n5 0.021739130434782608\n3 0.11538461538461539\n0 0.021825396825396824\n14 nan\n17 0.0\n7 nan\n15 0.0\n6 0.0\n8 0.0\n12 0\n9 0\n{'cabinet Average Precision': 0.021825396825396824, 'bed Average Precision': nan, 'chair Average Precision': 0.016264263938858693, 'sofa Average Precision': 0.11538461538461539, 'table Average Precision': 0.0, 'door Average Precision': 0.021739130434782608, 'window Average Precision': 0.0, 'bookshelf Average Precision': nan, 'picture Average Precision': 0.0, 'counter Average Precision': 0, 'refridgerator Average Precision': 0, 'toilet Average Precision': nan, 'sink Average Precision': 0.0, 'otherfurniture Average Precision': 0.0, 'mAP': nan, 'cabinet Recall': 0.03571428571428571, 'bed Recall': nan, 'chair Recall': 0.062111801242236024, 'sofa Recall': 0.11538461538461539, 'table Recall': 0.0, 'door Recall': 0.043478260869565216, 'window Recall': 0.0, 'bookshelf Recall': nan, 'picture Recall': 0.0, 'counter Recall': 0, 'refridgerator Recall': 0, 'toilet Recall': nan, 'sink Recall': 0.0, 'otherfurniture Recall': 0.0, 'AR': nan}\n"
    }
   ],
   "source": [
    "ap_calculator_list = [APCalculator(iou_thresh, DC.class2type) for iou_thresh in [0.001,0.01,0.05,0.1]]\n",
    "gt_ref = 'faabb_wa'\n",
    "for counter, ((scan_name, frame_idx), mask_insts) in enumerate(eval_vn.items()):\n",
    "    if counter > 100:\n",
    "        break\n",
    "    for ap_calculator in ap_calculator_list:\n",
    "        pred_map_cls = []\n",
    "        for mask_inst in mask_insts:\n",
    "            faabb_org = np.copy(mask_inst['faabb'])\n",
    "            faabb = np.copy(faabb_org[:,[0,2,1]])\n",
    "            faabb[:,2] *= -1\n",
    "            aabb = compute_AABB(faabb)\n",
    "        pred_map_cls.append((mask_inst['cls_id'], aabb, mask_inst['obj_prob']))\n",
    "        _, gt_instances = load_gt(scan_name, frame_idx, data_path=data_path, load_pc=False)\n",
    "        gt_map_cls = [(gt_instance['sn18_id'], gt_instance[gt_ref]) for gt_instance in gt_instances]\n",
    "        #print([x[0] for x in gt_map_cls])\n",
    "        ap_calculator.step([pred_map_cls], [gt_map_cls])\n",
    "\n",
    "for ap_calculator in ap_calculator_list:\n",
    "    ret_dict = ap_calculator.compute_metrics(get_iou)\n",
    "    print(ret_dict)"
   ]
  },
  {
   "cell_type": "code",
   "execution_count": 79,
   "metadata": {},
   "outputs": [
    {
     "output_type": "execute_result",
     "data": {
      "text/plain": "array([[ 4.14664947, -0.9620785 ,  1.54509652],\n       [ 4.14664947, -0.9620785 ,  0.24192464],\n       [ 1.92554416, -0.9620785 ,  0.24192464],\n       [ 1.92554416, -0.9620785 ,  1.54509652],\n       [ 4.14664947, -2.9970885 ,  1.54509652],\n       [ 4.14664947, -2.9970885 ,  0.24192464],\n       [ 1.92554416, -2.9970885 ,  0.24192464],\n       [ 1.92554416, -2.9970885 ,  1.54509652]])"
     },
     "metadata": {},
     "execution_count": 79
    }
   ],
   "source": [
    "mask_insts[0]['faabb']"
   ]
  },
  {
   "cell_type": "code",
   "execution_count": 86,
   "metadata": {},
   "outputs": [],
   "source": [
    "### find matching scan_name, frame_idx\n",
    "common_ids = set(eval_vn.keys()).intersection(eval_maskrcnn)\n",
    "\n",
    "\n"
   ]
  },
  {
   "cell_type": "code",
   "execution_count": 91,
   "metadata": {},
   "outputs": [],
   "source": [
    "mask_ap_calculator_list = [APCalculator(iou_thresh, DC.class2type) for iou_thresh in [0.001,0.01,0.05,0.1]]\n",
    "vn_ap_calculator_list = [APCalculator(iou_thresh, DC.class2type) for iou_thresh in [0.001,0.01,0.05,0.1]]\n",
    "gt_ref = 'aabb_wa'#'faabb_wa'\n",
    "\n",
    "\n",
    "for counter, (scan_name, frame_idx) in enumerate(common_ids):\n",
    "    # calc gt\n",
    "    _, gt_instances = load_gt(scan_name, frame_idx, data_path=data_path, load_pc=False)\n",
    "    gt_map_cls = [(gt_instance['sn18_id'], gt_instance[gt_ref]) for gt_instance in gt_instances]\n",
    "    # calc maskrcnn\n",
    "    mask_insts = eval_maskrcnn[(scan_name, frame_idx)]\n",
    "    mask_pred_map_cls = [(1, mask_inst['aabb_wa'], mask_inst['score']) for mask_inst in mask_insts]\n",
    "\n",
    "    for ap_calculator in mask_ap_calculator_list:\n",
    "        ap_calculator.step([mask_pred_map_cls], [gt_map_cls])\n",
    "\n",
    "    # calc votenet\n",
    "    vt_insts = eval_vn[(scan_name, frame_idx)]\n",
    "    vn_pred_map_cls = []\n",
    "    for vt_inst in vt_insts:\n",
    "        faabb_org = np.copy(vt_inst['faabb'])\n",
    "        faabb = np.copy(faabb_org[:,[0,2,1]])\n",
    "        faabb[:,2] *= -1\n",
    "        aabb = compute_AABB(faabb)\n",
    "    vn_pred_map_cls.append((vt_inst['cls_id'], aabb, vt_inst['obj_prob']))\n",
    "\n",
    "    for ap_calculator in vn_ap_calculator_list:\n",
    "        ap_calculator.step([vn_pred_map_cls], [gt_map_cls])\n"
   ]
  },
  {
   "cell_type": "code",
   "execution_count": 92,
   "metadata": {
    "tags": []
   },
   "outputs": [
    {
     "output_type": "stream",
     "name": "stdout",
     "text": "1 nan\n3 0\n4 0\n{'bed Average Precision': nan, 'sofa Average Precision': 0, 'table Average Precision': 0, 'mAP': nan, 'bed Recall': nan, 'sofa Recall': 0, 'table Recall': 0, 'AR': nan}\n1 nan\n3 0\n4 0\n{'bed Average Precision': nan, 'sofa Average Precision': 0, 'table Average Precision': 0, 'mAP': nan, 'bed Recall': nan, 'sofa Recall': 0, 'table Recall': 0, 'AR': nan}\n1 nan\n3 0\n4 0\n{'bed Average Precision': nan, 'sofa Average Precision': 0, 'table Average Precision': 0, 'mAP': nan, 'bed Recall': nan, 'sofa Recall': 0, 'table Recall': 0, 'AR': nan}\n1 nan\n3 0\n4 0\n{'bed Average Precision': nan, 'sofa Average Precision': 0, 'table Average Precision': 0, 'mAP': nan, 'bed Recall': nan, 'sofa Recall': 0, 'table Recall': 0, 'AR': nan}\n"
    }
   ],
   "source": [
    "for ap_calculator in mask_ap_calculator_list:\n",
    "    ret_dict = ap_calculator.compute_metrics(get_iou)\n",
    "    print(ret_dict)"
   ]
  },
  {
   "cell_type": "code",
   "execution_count": 93,
   "metadata": {
    "tags": []
   },
   "outputs": [
    {
     "output_type": "stream",
     "name": "stdout",
     "text": "2 nan\n3 0.21052631578947367\n5 nan\n4 0.14814814814814814\n1 nan\n{'bed Average Precision': nan, 'chair Average Precision': nan, 'sofa Average Precision': 0.21052631578947367, 'table Average Precision': 0.14814814814814814, 'door Average Precision': nan, 'mAP': nan, 'bed Recall': nan, 'chair Recall': nan, 'sofa Recall': 0.21052631578947367, 'table Recall': 0.2222222222222222, 'door Recall': nan, 'AR': nan}\n2 nan\n3 0.21052631578947367\n5 nan\n4 0.14814814814814814\n1 nan\n{'bed Average Precision': nan, 'chair Average Precision': nan, 'sofa Average Precision': 0.21052631578947367, 'table Average Precision': 0.14814814814814814, 'door Average Precision': nan, 'mAP': nan, 'bed Recall': nan, 'chair Recall': nan, 'sofa Recall': 0.21052631578947367, 'table Recall': 0.2222222222222222, 'door Recall': nan, 'AR': nan}\n2 nan\n3 0.21052631578947367\n5 nan\n4 0.037037037037037035\n1 nan\n{'bed Average Precision': nan, 'chair Average Precision': nan, 'sofa Average Precision': 0.21052631578947367, 'table Average Precision': 0.037037037037037035, 'door Average Precision': nan, 'mAP': nan, 'bed Recall': nan, 'chair Recall': nan, 'sofa Recall': 0.21052631578947367, 'table Recall': 0.1111111111111111, 'door Recall': nan, 'AR': nan}\n2 nan\n3 0.15789473684210525\n5 nan\n4 0.037037037037037035\n1 nan\n{'bed Average Precision': nan, 'chair Average Precision': nan, 'sofa Average Precision': 0.15789473684210525, 'table Average Precision': 0.037037037037037035, 'door Average Precision': nan, 'mAP': nan, 'bed Recall': nan, 'chair Recall': nan, 'sofa Recall': 0.15789473684210525, 'table Recall': 0.1111111111111111, 'door Recall': nan, 'AR': nan}\n"
    }
   ],
   "source": [
    "for ap_calculator in vn_ap_calculator_list:\n",
    "    ret_dict = ap_calculator.compute_metrics(get_iou)\n",
    "    print(ret_dict)"
   ]
  },
  {
   "cell_type": "code",
   "execution_count": null,
   "metadata": {},
   "outputs": [],
   "source": []
  }
 ]
}